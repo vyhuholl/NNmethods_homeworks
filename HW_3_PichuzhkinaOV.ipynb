{
  "nbformat": 4,
  "nbformat_minor": 0,
  "metadata": {
    "colab": {
      "name": "HW_3_PichuzhkinaOV.ipynb",
      "provenance": []
    },
    "kernelspec": {
      "name": "python3",
      "display_name": "Python 3"
    },
    "language_info": {
      "name": "python"
    }
  },
  "cells": [
    {
      "cell_type": "code",
      "execution_count": null,
      "metadata": {
        "id": "nKHcA26NFFBp"
      },
      "outputs": [],
      "source": [
        ""
      ]
    }
  ]
}