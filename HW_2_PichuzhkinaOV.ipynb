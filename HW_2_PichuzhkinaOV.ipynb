{
  "nbformat": 4,
  "nbformat_minor": 0,
  "metadata": {
    "colab": {
      "name": "HW_2_PichuzhkinaOV.ipynb",
      "provenance": [],
      "collapsed_sections": [
        "5LvJ-5pGklyZ",
        "gjf_NEwfqnmy",
        "zreDI6wDq7FM",
        "-VO2NOsJrZch",
        "BpAVOch1gZef",
        "jJdIoWwZ0FoF",
        "Afu7zlgEKsm3",
        "HxX1TOfi0Ukm",
        "cZ5hJMrwv8fa",
        "qDKlCG-_wSOg",
        "cpkDC5qTw4yA",
        "lNR1EpPY0PQy",
        "LFKBd8XfxM7Y",
        "FpHhH57-xT8L",
        "12FymtVCxijv"
      ]
    },
    "kernelspec": {
      "name": "python3",
      "display_name": "Python 3"
    },
    "language_info": {
      "name": "python"
    }
  },
  "cells": [
    {
      "cell_type": "markdown",
      "source": [
        "#### **Установка всех необходимых библиотек**"
      ],
      "metadata": {
        "id": "5LvJ-5pGklyZ"
      }
    },
    {
      "cell_type": "code",
      "execution_count": null,
      "metadata": {
        "id": "MJkbWy5hiPJs"
      },
      "outputs": [],
      "source": [
        "from IPython.display import clear_output"
      ]
    },
    {
      "cell_type": "code",
      "source": [
        "!pip install -U torchmetrics\n",
        "!pip install ipdb\n",
        "clear_output()"
      ],
      "metadata": {
        "id": "C9kAbaUDkt4b"
      },
      "execution_count": null,
      "outputs": []
    },
    {
      "cell_type": "markdown",
      "source": [
        "#### **Скачивание данных**"
      ],
      "metadata": {
        "id": "gjf_NEwfqnmy"
      }
    },
    {
      "cell_type": "code",
      "source": [
        "!wget -O positive.csv https://www.dropbox.com/s/fnpq3z4bcnoktiv/positive.csv?dl=0\n",
        "!wget -O negative.csv https://www.dropbox.com/s/r6u59ljhhjdg6j0/negative.csv?dl=0\n",
        "clear_output()"
      ],
      "metadata": {
        "id": "86mys7MCk5Il"
      },
      "execution_count": null,
      "outputs": []
    },
    {
      "cell_type": "markdown",
      "source": [
        "#### **Импорт библиотек**"
      ],
      "metadata": {
        "id": "zreDI6wDq7FM"
      }
    },
    {
      "cell_type": "code",
      "source": [
        "import random\n",
        "import re\n",
        "from collections import Counter\n",
        "from warnings import filterwarnings\n",
        "\n",
        "import ipdb\n",
        "import matplotlib.pyplot as plt\n",
        "import numpy as np\n",
        "import pandas as pd\n",
        "import torch\n",
        "import torch.nn as nn\n",
        "import torch.nn.functional as F\n",
        "import torch.optim as optim\n",
        "from gensim.models import FastText\n",
        "from sklearn.model_selection import train_test_split\n",
        "from torch.nn.utils.rnn import pad_sequence\n",
        "from torch.utils.data import (\n",
        "    DataLoader,\n",
        "    Dataset,\n",
        "    RandomSampler,\n",
        "    SequentialSampler,\n",
        ")\n",
        "from torchmetrics.functional import precision, recall\n",
        "from torchmetrics.functional.classification.f_beta import f1_score\n",
        "from tqdm.notebook import tqdm\n",
        "\n",
        "%matplotlib inline\n",
        "plt.rcParams[\"figure.figsize\"] = (18, 6)"
      ],
      "metadata": {
        "id": "FdMjQGN7q3iY"
      },
      "execution_count": null,
      "outputs": []
    },
    {
      "cell_type": "code",
      "source": [
        "random.seed(42)\n",
        "np.random.seed(42)\n",
        "torch.manual_seed(42)"
      ],
      "metadata": {
        "colab": {
          "base_uri": "https://localhost:8080/"
        },
        "id": "U6KucQ-1e8q7",
        "outputId": "1474e02e-d4ab-4481-c1ed-04a29835d151"
      },
      "execution_count": null,
      "outputs": [
        {
          "output_type": "execute_result",
          "data": {
            "text/plain": [
              "<torch._C.Generator at 0x7f64d6aa52d0>"
            ]
          },
          "metadata": {},
          "execution_count": 6
        }
      ]
    },
    {
      "cell_type": "code",
      "source": [
        "filterwarnings(\"ignore\")"
      ],
      "metadata": {
        "id": "RwXYq_W59w0u"
      },
      "execution_count": null,
      "outputs": []
    },
    {
      "cell_type": "code",
      "source": [
        "DEVICE = torch.device(\"cuda\") if torch.cuda.is_available() else torch.device(\"cpu\")"
      ],
      "metadata": {
        "id": "ByvjzvFC6HXm"
      },
      "execution_count": null,
      "outputs": []
    },
    {
      "cell_type": "markdown",
      "source": [
        "#### **Препроцессинг**"
      ],
      "metadata": {
        "id": "-VO2NOsJrZch"
      }
    },
    {
      "cell_type": "code",
      "source": [
        "def preprocess(text: str) -> str:\n",
        "    \"\"\"\n",
        "    Функция для препроцессинга текстов.\n",
        "\n",
        "    Parameters:\n",
        "        text: str\n",
        "\n",
        "    Returns:\n",
        "        str\n",
        "    \"\"\"\n",
        "    text = text.lower().replace(\"ё\", \"е\")\n",
        "    text = re.sub(\"((www\\.[^\\s]+)|(https?://[^\\s]+))\", \"URL\", text)\n",
        "    text = re.sub(\"@[^\\s]+\", \"USER\", text)\n",
        "    text = re.sub(\"[^a-zA-Zа-яА-Я1-9]+\", \" \", text)\n",
        "    text = re.sub(\" +\", \" \", text)\n",
        "    return text.strip()"
      ],
      "metadata": {
        "id": "CaqPL8YGM04J"
      },
      "execution_count": null,
      "outputs": []
    },
    {
      "cell_type": "code",
      "source": [
        "pos_tweets = pd.read_csv(\n",
        "    \"positive.csv\", encoding=\"utf-8\", sep=\";\", header=None,\n",
        "    names=[0, 1, 2, \"text\", \"tone\", 5, 6, 7, 8, 9, 10, 11]\n",
        "    )\n",
        "\n",
        "neg_tweets = pd.read_csv(\n",
        "    \"negative.csv\", encoding=\"utf-8\", sep=\";\", header=None,\n",
        "    names=[0, 1, 2, \"text\", \"tone\", 5, 6, 7, 8, 9, 10, 11]\n",
        "    )\n",
        "neg_tweets[\"tone\"] = 0"
      ],
      "metadata": {
        "id": "cx8emGo6sOwa"
      },
      "execution_count": null,
      "outputs": []
    },
    {
      "cell_type": "code",
      "source": [
        "corpus = pd.concat([pos_tweets, neg_tweets])[[\"text\", \"tone\"]].sample(frac=1).reset_index(drop=True)"
      ],
      "metadata": {
        "id": "rzvz9TpCtLne"
      },
      "execution_count": null,
      "outputs": []
    },
    {
      "cell_type": "code",
      "source": [
        "df = corpus[:100000]\n",
        "df[\"clean_text\"] = df[\"text\"].apply(preprocess)"
      ],
      "metadata": {
        "id": "fi_LztamSRQY"
      },
      "execution_count": null,
      "outputs": []
    },
    {
      "cell_type": "code",
      "source": [
        "df.head()"
      ],
      "metadata": {
        "colab": {
          "base_uri": "https://localhost:8080/"
        },
        "id": "LiI8Gb8Jubzm",
        "outputId": "3bc60be7-c8b0-4c5a-f7ae-96479c5116b4"
      },
      "execution_count": null,
      "outputs": [
        {
          "output_type": "execute_result",
          "data": {
            "text/plain": [
              "                                                text  tone  \\\n",
              "0  мыс на меня обиделась:(\\nя ей даже ничего не с...     0   \n",
              "1          аааааааааааааааааааа,не хочу на работу :(     0   \n",
              "2  У меня какой-то особенный вид ушей! :D, некото...     1   \n",
              "3  @simonovkon  он неплохой человек в жизни. Я ра...     0   \n",
              "4  RT @Darina_Lo: Домааааа\\nЕхали на такси, пели ...     1   \n",
              "\n",
              "                                          clean_text  \n",
              "0  мыс на меня обиделась я ей даже ничего не сделала  \n",
              "1             аааааааааааааааааааа не хочу на работу  \n",
              "2  у меня какой то особенный вид ушей d некоторые...  \n",
              "3  USER он неплохой человек в жизни я работала в ...  \n",
              "4  rt USER домааааа ехали на такси пели песни отд...  "
            ],
            "text/html": [
              "\n",
              "  <div id=\"df-68d3a3b2-a697-41d8-8e9d-8c235291a27c\">\n",
              "    <div class=\"colab-df-container\">\n",
              "      <div>\n",
              "<style scoped>\n",
              "    .dataframe tbody tr th:only-of-type {\n",
              "        vertical-align: middle;\n",
              "    }\n",
              "\n",
              "    .dataframe tbody tr th {\n",
              "        vertical-align: top;\n",
              "    }\n",
              "\n",
              "    .dataframe thead th {\n",
              "        text-align: right;\n",
              "    }\n",
              "</style>\n",
              "<table border=\"1\" class=\"dataframe\">\n",
              "  <thead>\n",
              "    <tr style=\"text-align: right;\">\n",
              "      <th></th>\n",
              "      <th>text</th>\n",
              "      <th>tone</th>\n",
              "      <th>clean_text</th>\n",
              "    </tr>\n",
              "  </thead>\n",
              "  <tbody>\n",
              "    <tr>\n",
              "      <th>0</th>\n",
              "      <td>мыс на меня обиделась:(\\nя ей даже ничего не с...</td>\n",
              "      <td>0</td>\n",
              "      <td>мыс на меня обиделась я ей даже ничего не сделала</td>\n",
              "    </tr>\n",
              "    <tr>\n",
              "      <th>1</th>\n",
              "      <td>аааааааааааааааааааа,не хочу на работу :(</td>\n",
              "      <td>0</td>\n",
              "      <td>аааааааааааааааааааа не хочу на работу</td>\n",
              "    </tr>\n",
              "    <tr>\n",
              "      <th>2</th>\n",
              "      <td>У меня какой-то особенный вид ушей! :D, некото...</td>\n",
              "      <td>1</td>\n",
              "      <td>у меня какой то особенный вид ушей d некоторые...</td>\n",
              "    </tr>\n",
              "    <tr>\n",
              "      <th>3</th>\n",
              "      <td>@simonovkon  он неплохой человек в жизни. Я ра...</td>\n",
              "      <td>0</td>\n",
              "      <td>USER он неплохой человек в жизни я работала в ...</td>\n",
              "    </tr>\n",
              "    <tr>\n",
              "      <th>4</th>\n",
              "      <td>RT @Darina_Lo: Домааааа\\nЕхали на такси, пели ...</td>\n",
              "      <td>1</td>\n",
              "      <td>rt USER домааааа ехали на такси пели песни отд...</td>\n",
              "    </tr>\n",
              "  </tbody>\n",
              "</table>\n",
              "</div>\n",
              "      <button class=\"colab-df-convert\" onclick=\"convertToInteractive('df-68d3a3b2-a697-41d8-8e9d-8c235291a27c')\"\n",
              "              title=\"Convert this dataframe to an interactive table.\"\n",
              "              style=\"display:none;\">\n",
              "        \n",
              "  <svg xmlns=\"http://www.w3.org/2000/svg\" height=\"24px\"viewBox=\"0 0 24 24\"\n",
              "       width=\"24px\">\n",
              "    <path d=\"M0 0h24v24H0V0z\" fill=\"none\"/>\n",
              "    <path d=\"M18.56 5.44l.94 2.06.94-2.06 2.06-.94-2.06-.94-.94-2.06-.94 2.06-2.06.94zm-11 1L8.5 8.5l.94-2.06 2.06-.94-2.06-.94L8.5 2.5l-.94 2.06-2.06.94zm10 10l.94 2.06.94-2.06 2.06-.94-2.06-.94-.94-2.06-.94 2.06-2.06.94z\"/><path d=\"M17.41 7.96l-1.37-1.37c-.4-.4-.92-.59-1.43-.59-.52 0-1.04.2-1.43.59L10.3 9.45l-7.72 7.72c-.78.78-.78 2.05 0 2.83L4 21.41c.39.39.9.59 1.41.59.51 0 1.02-.2 1.41-.59l7.78-7.78 2.81-2.81c.8-.78.8-2.07 0-2.86zM5.41 20L4 18.59l7.72-7.72 1.47 1.35L5.41 20z\"/>\n",
              "  </svg>\n",
              "      </button>\n",
              "      \n",
              "  <style>\n",
              "    .colab-df-container {\n",
              "      display:flex;\n",
              "      flex-wrap:wrap;\n",
              "      gap: 12px;\n",
              "    }\n",
              "\n",
              "    .colab-df-convert {\n",
              "      background-color: #E8F0FE;\n",
              "      border: none;\n",
              "      border-radius: 50%;\n",
              "      cursor: pointer;\n",
              "      display: none;\n",
              "      fill: #1967D2;\n",
              "      height: 32px;\n",
              "      padding: 0 0 0 0;\n",
              "      width: 32px;\n",
              "    }\n",
              "\n",
              "    .colab-df-convert:hover {\n",
              "      background-color: #E2EBFA;\n",
              "      box-shadow: 0px 1px 2px rgba(60, 64, 67, 0.3), 0px 1px 3px 1px rgba(60, 64, 67, 0.15);\n",
              "      fill: #174EA6;\n",
              "    }\n",
              "\n",
              "    [theme=dark] .colab-df-convert {\n",
              "      background-color: #3B4455;\n",
              "      fill: #D2E3FC;\n",
              "    }\n",
              "\n",
              "    [theme=dark] .colab-df-convert:hover {\n",
              "      background-color: #434B5C;\n",
              "      box-shadow: 0px 1px 3px 1px rgba(0, 0, 0, 0.15);\n",
              "      filter: drop-shadow(0px 1px 2px rgba(0, 0, 0, 0.3));\n",
              "      fill: #FFFFFF;\n",
              "    }\n",
              "  </style>\n",
              "\n",
              "      <script>\n",
              "        const buttonEl =\n",
              "          document.querySelector('#df-68d3a3b2-a697-41d8-8e9d-8c235291a27c button.colab-df-convert');\n",
              "        buttonEl.style.display =\n",
              "          google.colab.kernel.accessAllowed ? 'block' : 'none';\n",
              "\n",
              "        async function convertToInteractive(key) {\n",
              "          const element = document.querySelector('#df-68d3a3b2-a697-41d8-8e9d-8c235291a27c');\n",
              "          const dataTable =\n",
              "            await google.colab.kernel.invokeFunction('convertToInteractive',\n",
              "                                                     [key], {});\n",
              "          if (!dataTable) return;\n",
              "\n",
              "          const docLinkHtml = 'Like what you see? Visit the ' +\n",
              "            '<a target=\"_blank\" href=https://colab.research.google.com/notebooks/data_table.ipynb>data table notebook</a>'\n",
              "            + ' to learn more about interactive tables.';\n",
              "          element.innerHTML = '';\n",
              "          dataTable['output_type'] = 'display_data';\n",
              "          await google.colab.output.renderOutput(dataTable, element);\n",
              "          const docLink = document.createElement('div');\n",
              "          docLink.innerHTML = docLinkHtml;\n",
              "          element.appendChild(docLink);\n",
              "        }\n",
              "      </script>\n",
              "    </div>\n",
              "  </div>\n",
              "  "
            ]
          },
          "metadata": {},
          "execution_count": 13
        }
      ]
    },
    {
      "cell_type": "markdown",
      "source": [
        "Удаляем всё массивное и ненужное."
      ],
      "metadata": {
        "id": "W99Jm3SAxjY2"
      }
    },
    {
      "cell_type": "code",
      "source": [
        "!rm *.csv"
      ],
      "metadata": {
        "id": "D6FyVs3Y3hCI"
      },
      "execution_count": null,
      "outputs": []
    },
    {
      "cell_type": "code",
      "source": [
        "del pos_tweets\n",
        "del neg_tweets\n",
        "del corpus"
      ],
      "metadata": {
        "id": "nx1Xab3i3mVG"
      },
      "execution_count": null,
      "outputs": []
    },
    {
      "cell_type": "code",
      "source": [
        "train_df, val_df = train_test_split(df, test_size=0.1)"
      ],
      "metadata": {
        "id": "BXs0IQlrNtih"
      },
      "execution_count": null,
      "outputs": []
    },
    {
      "cell_type": "code",
      "source": [
        "vocab = Counter(\" \".join(df[\"clean_text\"]).split())\n",
        "print(f\"Всего уникальных токенов: {len(vocab)}\")"
      ],
      "metadata": {
        "id": "b_6dVgSjyUMj",
        "colab": {
          "base_uri": "https://localhost:8080/"
        },
        "outputId": "615572eb-6899-4e77-e10d-0200ea5091df"
      },
      "execution_count": null,
      "outputs": [
        {
          "output_type": "stream",
          "name": "stdout",
          "text": [
            "Всего уникальных токенов: 111423\n"
          ]
        }
      ]
    },
    {
      "cell_type": "code",
      "source": [
        "filtered_vocab = {word for word in vocab if vocab[word] > 2}\n",
        "print(f\"Токенов, встретившихся больше 2 раз: {len(filtered_vocab)}\")"
      ],
      "metadata": {
        "id": "fPXqSNWSzvcH",
        "colab": {
          "base_uri": "https://localhost:8080/"
        },
        "outputId": "8b81fbce-8bd7-48dd-eef1-fe254d9bc519"
      },
      "execution_count": null,
      "outputs": [
        {
          "output_type": "stream",
          "name": "stdout",
          "text": [
            "Токенов, встретившихся больше 2 раз: 29118\n"
          ]
        }
      ]
    },
    {
      "cell_type": "code",
      "source": [
        "symbols = Counter(\"\".join(df[\"text\"]))\n",
        "print(f\"Всего уникальных символов: {len(symbols)}\")"
      ],
      "metadata": {
        "colab": {
          "base_uri": "https://localhost:8080/"
        },
        "id": "CTMeVaxOumhq",
        "outputId": "e731f1a0-9e83-4f26-fd60-210d4c112317"
      },
      "execution_count": null,
      "outputs": [
        {
          "output_type": "stream",
          "name": "stdout",
          "text": [
            "Всего уникальных символов: 369\n"
          ]
        }
      ]
    },
    {
      "cell_type": "code",
      "source": [
        "filtered_symbols = {symbol for symbol in symbols if symbols[symbol] > 10}\n",
        "print(f\"Символов, встретившихся больше 10 раз: {len(filtered_symbols)}\")"
      ],
      "metadata": {
        "colab": {
          "base_uri": "https://localhost:8080/"
        },
        "id": "z46jKtQg4306",
        "outputId": "c6da144f-3607-410e-d7f1-6450441b6a88"
      },
      "execution_count": null,
      "outputs": [
        {
          "output_type": "stream",
          "name": "stdout",
          "text": [
            "Символов, встретившихся больше 10 раз: 197\n"
          ]
        }
      ]
    },
    {
      "cell_type": "code",
      "source": [
        "word2id = {\"PAD\": 0}\n",
        "\n",
        "for word in filtered_vocab:\n",
        "    word2id[word] = len(word2id)\n",
        "\n",
        "id2word = {i: word for word, i in word2id.items()}"
      ],
      "metadata": {
        "id": "t2TKqQh801WZ"
      },
      "execution_count": null,
      "outputs": []
    },
    {
      "cell_type": "code",
      "source": [
        "symbol2id = {\"PAD\": 0}\n",
        "\n",
        "for symbol in filtered_symbols:\n",
        "    symbol2id[symbol] = len(symbol2id)\n",
        "\n",
        "id2symbol = {i: symbol for symbol, i in symbol2id.items()}"
      ],
      "metadata": {
        "id": "0gsZJvFp5dmo"
      },
      "execution_count": null,
      "outputs": []
    },
    {
      "cell_type": "markdown",
      "source": [
        "#### **Функции для обучения и валидации**"
      ],
      "metadata": {
        "id": "BpAVOch1gZef"
      }
    },
    {
      "cell_type": "code",
      "source": [
        "def train(model, iterator, optatasetimizer, criterion):\n",
        "    epoch_loss = 0\n",
        "\n",
        "    model.train()\n",
        "\n",
        "    for i, (texts, ys) in tqdm(enumerate(iterator)):\n",
        "        optimizer.zero_grad()\n",
        "        preds = model(texts)\n",
        "        loss = criterion(preds, ys)\n",
        "        loss.backward() \n",
        "        optimizer.step()\n",
        "        epoch_loss += loss.item()\n",
        "        if not (i + 1) % int(len(iterator) / 5):\n",
        "            print(f\"Train loss: {epoch_loss / i}\")      \n",
        "    return epoch_loss / len(iterator)"
      ],
      "metadata": {
        "id": "BWnsnG4nQyjz"
      },
      "execution_count": null,
      "outputs": []
    },
    {
      "cell_type": "code",
      "source": [
        "def evaluate(model, iterator, criterion):\n",
        "    epoch_loss = 0\n",
        "    epoch_metric = 0\n",
        "    model.eval() \n",
        "    with torch.no_grad():\n",
        "        for i, (texts, ys) in enumerate(iterator):   \n",
        "            preds = model(texts)\n",
        "            loss = criterion(preds, ys) \n",
        "            epoch_loss += loss.item()\n",
        "            batch_metric = f1_score(\n",
        "                preds.round().long(), ys.long(), ignore_index=0\n",
        "                )\n",
        "            epoch_metric += batch_metric\n",
        "\n",
        "            if not (i + 1) % int(len(iterator) / 5):\n",
        "              print(f\"Val loss: {epoch_loss / i}, Val f1: {epoch_metric / i}\")\n",
        "        \n",
        "    return epoch_metric / len(iterator), epoch_loss / len(iterator)"
      ],
      "metadata": {
        "id": "jEQxipkFRTFv"
      },
      "execution_count": null,
      "outputs": []
    },
    {
      "cell_type": "code",
      "source": [
        "def predict(model, iterator):\n",
        "    preds = []\n",
        "    model.eval()\n",
        "    with torch.no_grad():\n",
        "        for i, (words, ys) in enumerate(iterator): \n",
        "            for word in model(words):\n",
        "                preds.append(word.cpu().detach().numpy().round())\n",
        "    return preds"
      ],
      "metadata": {
        "id": "QGc_x6jFR4V8"
      },
      "execution_count": null,
      "outputs": []
    },
    {
      "cell_type": "code",
      "source": [
        "def train_symb(model, iterator, optimizer, criterion):\n",
        "    epoch_loss = 0\n",
        "\n",
        "    model.train()\n",
        "\n",
        "    for i, (texts, symbols, ys) in tqdm(enumerate(iterator)):\n",
        "        optimizer.zero_grad()\n",
        "        preds = model(texts, symbols)\n",
        "        loss = criterion(preds, ys)\n",
        "        loss.backward() \n",
        "        optimizer.step()\n",
        "        epoch_loss += loss.item()\n",
        "        if not (i + 1) % int(len(iterator) / 5):\n",
        "            print(f\"Train loss: {epoch_loss / i}\")      \n",
        "    return  epoch_loss / len(iterator)"
      ],
      "metadata": {
        "id": "qCnp3Y8XyltQ"
      },
      "execution_count": null,
      "outputs": []
    },
    {
      "cell_type": "code",
      "source": [
        "def evaluate_symb(model, iterator, criterion):\n",
        "    epoch_loss = 0\n",
        "    epoch_metric = 0\n",
        "    model.eval() \n",
        "    with torch.no_grad():\n",
        "        for i, (texts, symbols, ys) in enumerate(iterator):   \n",
        "            preds = model(texts, symbols)\n",
        "            loss = criterion(preds, ys) \n",
        "            epoch_loss += loss.item()\n",
        "            batch_metric = f1_score(\n",
        "                preds.round().long(), ys.long(), ignore_index=0\n",
        "                )\n",
        "            epoch_metric += batch_metric\n",
        "\n",
        "            if not (i + 1) % int(len(iterator) / 5):\n",
        "              print(f\"Val loss: {epoch_loss / i}, Val f1: {epoch_metric / i}\")\n",
        "        \n",
        "    return epoch_metric / len(iterator), epoch_loss / len(iterator)"
      ],
      "metadata": {
        "id": "HdPY0Lzqyl8F"
      },
      "execution_count": null,
      "outputs": []
    },
    {
      "cell_type": "code",
      "source": [
        "def predict_symb(model, iterator):\n",
        "    preds = []\n",
        "    model.eval()\n",
        "    with torch.no_grad():\n",
        "        for i, (words, symbols, ys) in enumerate(iterator): \n",
        "            for word in model(words, symbols):\n",
        "                preds.append(word.cpu().detach().numpy().round())\n",
        "    return preds"
      ],
      "metadata": {
        "id": "8GXyiNpwymHn"
      },
      "execution_count": null,
      "outputs": []
    },
    {
      "cell_type": "markdown",
      "source": [
        "# **CNN на уровне слов**"
      ],
      "metadata": {
        "id": "qzvZ_82NuTQq"
      }
    },
    {
      "cell_type": "markdown",
      "source": [
        "#### **Dataset & DataLoader**"
      ],
      "metadata": {
        "id": "jJdIoWwZ0FoF"
      }
    },
    {
      "cell_type": "code",
      "source": [
        "class TweetsDataset(Dataset):\n",
        "    def __init__(self, dataset, word2id, DEVICE):\n",
        "        self.dataset = dataset[\"text\"].values\n",
        "        self.word2id = word2id\n",
        "        self.length = dataset.shape[0]\n",
        "        self.target = torch.Tensor(dataset[\"tone\"].values)\n",
        "        self.device = DEVICE\n",
        "\n",
        "    def __len__(self):\n",
        "        return self.length\n",
        "\n",
        "    def __getitem__(self, idx): \n",
        "        tokens = self.preprocess(self.dataset[idx])\n",
        "        ids = torch.LongTensor(\n",
        "            [self.word2id[token] for token in tokens if token in self.word2id]\n",
        "            )\n",
        "        y = [self.target[idx]]\n",
        "        return ids, y\n",
        "\n",
        "    def preprocess(self, text):\n",
        "        text = text.lower().replace(\"ё\", \"е\")\n",
        "        text = re.sub(\"((www\\.[^\\s]+)|(https?://[^\\s]+))\", \"URL\", text)\n",
        "        text = re.sub(\"@[^\\s]+\", \"USER\", text)\n",
        "        text = re.sub(\"[^a-zA-Zа-яА-Я1-9]+\", \" \", text)\n",
        "        text = re.sub(\" +\", \" \", text)\n",
        "        return text.strip()\n",
        "\n",
        "    def collate_fn(self, batch):\n",
        "      ids, y = list(zip(*batch))\n",
        "      padded_ids = pad_sequence(ids, batch_first=True).to(self.device)\n",
        "      y = torch.Tensor(y).to(self.device)\n",
        "      return padded_ids, y"
      ],
      "metadata": {
        "id": "ZaK03059zxlQ"
      },
      "execution_count": null,
      "outputs": []
    },
    {
      "cell_type": "code",
      "source": [
        "train_dataset = TweetsDataset(train_df, word2id, DEVICE)\n",
        "train_sampler = RandomSampler(train_dataset)\n",
        "train_iterator = DataLoader(\n",
        "    train_dataset, collate_fn=train_dataset.collate_fn, sampler=train_sampler,\n",
        "    batch_size=128\n",
        "    )\n",
        "\n",
        "val_dataset = TweetsDataset(val_df, word2id, DEVICE)\n",
        "val_sampler = RandomSampler(val_dataset)\n",
        "val_iterator = DataLoader(\n",
        "    val_dataset, collate_fn=val_dataset.collate_fn, sampler=val_sampler,\n",
        "    batch_size=128\n",
        "    )"
      ],
      "metadata": {
        "id": "wggJKNplzy3G"
      },
      "execution_count": null,
      "outputs": []
    },
    {
      "cell_type": "markdown",
      "source": [
        "#### **FastText**"
      ],
      "metadata": {
        "id": "Afu7zlgEKsm3"
      }
    },
    {
      "cell_type": "code",
      "source": [
        "fasttext = FastText(df[\"clean_text\"].tolist(), size=100, window=5, min_count=1)"
      ],
      "metadata": {
        "id": "YFogOUz_UNzo"
      },
      "execution_count": null,
      "outputs": []
    },
    {
      "cell_type": "code",
      "source": [
        "weights = np.zeros((len(word2id), 100))\n",
        "for word, i in word2id.items():\n",
        "    if word in fasttext.wv:\n",
        "        weights[i] = fasttext.wv[word]\n",
        "    elif word != \"PAD\":\n",
        "        weights[i] = np.random.normal(0, 0.1, 100)"
      ],
      "metadata": {
        "id": "yuOa3PAWI0WK"
      },
      "execution_count": null,
      "outputs": []
    },
    {
      "cell_type": "markdown",
      "source": [
        "#### **Архитектура модели**"
      ],
      "metadata": {
        "id": "HxX1TOfi0Ukm"
      }
    },
    {
      "cell_type": "code",
      "source": [
        "class CNN(nn.Module):\n",
        "    def __init__(self, vocab_size, embedding_size):\n",
        "        super().__init__()\n",
        "        self.embedding = nn.Embedding(vocab_size, embedding_size)\n",
        "        self.embedding.from_pretrained(torch.tensor(weights), freeze=True)\n",
        "        self.bigrams = nn.Conv1d(\n",
        "            in_channels=embedding_size, out_channels=100,\n",
        "            kernel_size=2, padding=\"same\"\n",
        "            )\n",
        "        self.trigrams = nn.Conv1d(\n",
        "            in_channels=embedding_size, out_channels=80,\n",
        "            kernel_size=3, padding=\"same\"\n",
        "            )\n",
        "        self.bigrams2 = nn.Conv1d(\n",
        "            in_channels=180, out_channels=180, kernel_size=2, padding=\"same\"\n",
        "            )\n",
        "        self.pooling = nn.MaxPool1d(kernel_size=3, stride=2)\n",
        "        self.relu = nn.ReLU()\n",
        "        self.hidden = nn.Linear(in_features=180, out_features=1)\n",
        "        self.out = nn.Sigmoid()\n",
        "\n",
        "    def forward(self, word):\n",
        "        embedded = self.embedding(word)\n",
        "        embedded = embedded.transpose(1, 2)\n",
        "        feature_map_bigrams = self.relu(self.bigrams(embedded))\n",
        "        feature_map_trigrams = self.relu(self.trigrams(embedded))\n",
        "        concat = torch.cat((feature_map_bigrams, feature_map_trigrams), 1)\n",
        "        bigrams = self.pooling(self.relu(self.bigrams2(concat)))\n",
        "        pooling = bigrams.max(2)[0]\n",
        "        logits = self.hidden(pooling) \n",
        "        logits = self.out(logits)      \n",
        "        return logits"
      ],
      "metadata": {
        "id": "8upEY_uK0bwV"
      },
      "execution_count": null,
      "outputs": []
    },
    {
      "cell_type": "code",
      "source": [
        "model = CNN(len(word2id), 100)\n",
        "optimizer = optim.Adam(model.parameters(), lr=0.0005)\n",
        "criterion = nn.BCELoss()\n",
        "\n",
        "model = model.to(DEVICE)\n",
        "criterion = criterion.to(DEVICE)"
      ],
      "metadata": {
        "id": "2ML_ghOf2Pwi"
      },
      "execution_count": null,
      "outputs": []
    },
    {
      "cell_type": "markdown",
      "source": [
        "#### **Обучение и валидация**"
      ],
      "metadata": {
        "id": "cZ5hJMrwv8fa"
      }
    },
    {
      "cell_type": "code",
      "source": [
        "train_losses = []\n",
        "val_losses = []\n",
        "train_f1s = []\n",
        "val_f1s = []\n",
        "\n",
        "for i in range(1, 11):\n",
        "    print(f\"Starting Epoch {i}\")\n",
        "    print(\"Training...\")\n",
        "    epoch_loss = train(model, train_iterator, optimizer, criterion)\n",
        "    train_losses.append(epoch_loss)\n",
        "    print(\"Evaluating on train...\")\n",
        "    f1_on_train,_ = evaluate(model, train_iterator, criterion)\n",
        "    train_f1s.append(f1_on_train)\n",
        "    print(\"Evaluating on test...\")\n",
        "    f1_on_test, epoch_loss_on_test = evaluate(model, val_iterator, criterion)\n",
        "    val_losses.append(epoch_loss_on_test)\n",
        "    val_f1s.append(f1_on_test)\n",
        "\n",
        "clear_output()"
      ],
      "metadata": {
        "id": "q4BS8yVpWIIh"
      },
      "execution_count": null,
      "outputs": []
    },
    {
      "cell_type": "code",
      "source": [
        "print(f\"val loss: {val_losses[-1]}, val f1-score: {val_f1s[-1]}\")"
      ],
      "metadata": {
        "colab": {
          "base_uri": "https://localhost:8080/"
        },
        "id": "45kYCLBXBv_X",
        "outputId": "dba6459c-0749-46b6-82fa-1bdc9af49776"
      },
      "execution_count": null,
      "outputs": [
        {
          "output_type": "stream",
          "name": "stdout",
          "text": [
            "val loss: 0.5257393823394293, val f1-score: 0.7379230856895447\n"
          ]
        }
      ]
    },
    {
      "cell_type": "markdown",
      "source": [
        "#### **Графики метрик**"
      ],
      "metadata": {
        "id": "qDKlCG-_wSOg"
      }
    },
    {
      "cell_type": "code",
      "source": [
        "fig, (ax1, ax2) = plt.subplots(1, 2)\n",
        "\n",
        "ax1.plot(train_losses, label=\"train\")\n",
        "ax1.plot(val_losses, label=\"val\")\n",
        "ax1.set_title(\"BCE loss value\")\n",
        "ax1.set(xlabel=\"epoch\", ylabel=\"BCE loss\")\n",
        "ax1.legend(loc=\"upper right\")\n",
        "\n",
        "ax2.plot(train_f1s, label=\"train\")\n",
        "ax2.plot(val_f1s, label=\"val\")\n",
        "ax2.set_title(\"F1 score\")\n",
        "ax2.set(xlabel=\"epoch\", ylabel=\"F1 score\")\n",
        "ax2.legend(loc=\"upper right\")"
      ],
      "metadata": {
        "colab": {
          "base_uri": "https://localhost:8080/",
          "height": 422
        },
        "id": "Xp7ez5fvwi_r",
        "outputId": "5bcf1988-d90b-497c-e2b8-21028844eb84"
      },
      "execution_count": null,
      "outputs": [
        {
          "output_type": "execute_result",
          "data": {
            "text/plain": [
              "<matplotlib.legend.Legend at 0x7f58ec8368d0>"
            ]
          },
          "metadata": {},
          "execution_count": 36
        },
        {
          "output_type": "display_data",
          "data": {
            "text/plain": [
              "<Figure size 1296x432 with 2 Axes>"
            ],
            "image/png": "[encoded data removed]"
          },
          "metadata": {
            "needs_background": "light"
          }
        }
      ]
    },
    {
      "cell_type": "markdown",
      "source": [
        "#### **Улучшение архитектуры**\n",
        "Попытаемся ещё улучшить качество предсказаний модели, немного поменяв архитектуру."
      ],
      "metadata": {
        "id": "cpkDC5qTw4yA"
      }
    },
    {
      "cell_type": "code",
      "source": [
        "class CNNTweaked(nn.Module):\n",
        "    def __init__(self, vocab_size, embedding_size):\n",
        "        super().__init__()\n",
        "        self.embedding = nn.Embedding(vocab_size, embedding_size)\n",
        "        self.embedding.from_pretrained(torch.tensor(weights), freeze=True)\n",
        "        self.bigrams = nn.Conv1d(\n",
        "            in_channels=embedding_size, out_channels=100,\n",
        "            kernel_size=2, padding=\"same\"\n",
        "            )\n",
        "        self.trigrams = nn.Conv1d(\n",
        "            in_channels=embedding_size, out_channels=80,\n",
        "            kernel_size=3, padding=\"same\"\n",
        "            )\n",
        "        self.bigrams2 = nn.Conv1d(\n",
        "            in_channels=180, out_channels=180, kernel_size=2, padding=\"same\"\n",
        "            )\n",
        "        self.pooling = nn.MaxPool1d(kernel_size=3, stride=2)\n",
        "        self.relu = nn.ReLU()\n",
        "        self.hidden = nn.Linear(in_features=180, out_features=1)\n",
        "        self.dropout = nn.Dropout(p=0.5) # добавим dropout\n",
        "        self.out = nn.Sigmoid()\n",
        "\n",
        "    def forward(self, word):\n",
        "        embedded = self.embedding(word)\n",
        "        embedded = embedded.transpose(1, 2)\n",
        "        feature_map_bigrams = self.relu(self.bigrams(embedded))\n",
        "        feature_map_trigrams = self.relu(self.trigrams(embedded))\n",
        "        concat = torch.cat((feature_map_bigrams, feature_map_trigrams), 1)\n",
        "        bigrams = self.dropout(self.pooling(self.relu(self.bigrams2(concat))))\n",
        "        pooling = bigrams.max(2)[0]\n",
        "        logits = self.hidden(pooling)\n",
        "        logits = self.out(logits)      \n",
        "        return logits"
      ],
      "metadata": {
        "id": "THcZfkWdw_sJ"
      },
      "execution_count": null,
      "outputs": []
    },
    {
      "cell_type": "code",
      "source": [
        "model_new = CNNTweaked(len(word2id), 100)\n",
        "# изменим параметры оптимайзера — повысим learning rate и добавим weight decay\n",
        "optimizer = optim.Adam(model_new.parameters(), lr=0.001, weight_decay=1e-4)\n",
        "criterion = nn.BCELoss()\n",
        "\n",
        "model_new = model_new.to(DEVICE)\n",
        "criterion = criterion.to(DEVICE)"
      ],
      "metadata": {
        "id": "gXTALMVdcrX_"
      },
      "execution_count": null,
      "outputs": []
    },
    {
      "cell_type": "code",
      "source": [
        "train_losses = []\n",
        "val_losses = []\n",
        "train_f1s = []\n",
        "val_f1s = []\n",
        "\n",
        "for i in range(1, 11):\n",
        "    print(f\"Starting Epoch {i}\")\n",
        "    print(\"Training...\")\n",
        "    epoch_loss = train(model_new, train_iterator, optimizer, criterion)\n",
        "    train_losses.append(epoch_loss)\n",
        "    print(\"Evaluating on train...\")\n",
        "    f1_on_train,_ = evaluate(model_new, train_iterator, criterion)\n",
        "    train_f1s.append(f1_on_train)\n",
        "    print(\"Evaluating on test...\")\n",
        "    f1_on_test, epoch_loss_on_test = evaluate(\n",
        "        model_new, val_iterator, criterion\n",
        "        )\n",
        "    val_losses.append(epoch_loss_on_test)\n",
        "    val_f1s.append(f1_on_test)\n",
        "\n",
        "clear_output()"
      ],
      "metadata": {
        "id": "a21Q7f02csYE"
      },
      "execution_count": null,
      "outputs": []
    },
    {
      "cell_type": "code",
      "source": [
        "print(f\"val loss: {val_losses[-1]}, val f1-score: {val_f1s[-1]}\")"
      ],
      "metadata": {
        "colab": {
          "base_uri": "https://localhost:8080/"
        },
        "id": "-ir1UYQ6CL2f",
        "outputId": "b8fd5bb8-7f30-4a93-a4d3-a6fcbe9b1768"
      },
      "execution_count": null,
      "outputs": [
        {
          "output_type": "stream",
          "name": "stdout",
          "text": [
            "val loss: 0.5294078018846391, val f1-score: 0.7514127492904663\n"
          ]
        }
      ]
    },
    {
      "cell_type": "markdown",
      "source": [
        "Результаты предыдущей модели:\n",
        "\n",
        "```\n",
        "val loss: 0.5257393823394293, val f1-score: 0.7379230856895447\n",
        "```\n",
        "Результаты новой модели:\n",
        "```\n",
        "val loss: 0.5294078018846391, val f1-score: 0.7514127492904663\n",
        "```\n",
        "Добавление дропаута и изменение параметров оптимайзера незначительно, но улучшило качество модели!"
      ],
      "metadata": {
        "id": "JLzSHdM-pNZS"
      }
    },
    {
      "cell_type": "markdown",
      "source": [
        "# **Комбинация эмбеддингов и символьных признаков**"
      ],
      "metadata": {
        "id": "QB6KpQ6bua2a"
      }
    },
    {
      "cell_type": "markdown",
      "source": [
        "#### **Dataset & DataLoader**"
      ],
      "metadata": {
        "id": "lNR1EpPY0PQy"
      }
    },
    {
      "cell_type": "code",
      "source": [
        "class WordSymbDataset(Dataset):\n",
        "    def __init__(self, dataset, word2id, symbol2id, DEVICE):\n",
        "        self.dataset = dataset[\"clean_text\"].values\n",
        "        self.word2id = word2id\n",
        "        self.symbol2id = symbol2id\n",
        "        self.length = dataset.shape[0]\n",
        "        self.target = torch.Tensor(dataset[\"tone\"].values)\n",
        "        self.device = DEVICE\n",
        "\n",
        "    def __len__(self):\n",
        "        return self.length\n",
        "\n",
        "    def __getitem__(self, idx): \n",
        "        tokens = self.dataset[idx].split()\n",
        "        word_ids = torch.LongTensor(\n",
        "            [self.word2id[token] for token in tokens if token in self.word2id]\n",
        "            )\n",
        "        symbols = list(self.dataset[idx])\n",
        "        symbol_ids = torch.LongTensor(\n",
        "            [self.symbol2id[symbol] for symbol in symbols\n",
        "             if symbol in self.symbol2id]\n",
        "            )\n",
        "        y = [self.target[idx]]\n",
        "        return word_ids, symbol_ids, y\n",
        "\n",
        "    def collate_fn(self, batch):\n",
        "      word_ids, symbol_ids, y = list(zip(*batch))\n",
        "      padded_words = pad_sequence(word_ids, batch_first=True).to(self.device)\n",
        "      padded_symbols = pad_sequence(\n",
        "          symbol_ids, batch_first=True\n",
        "          ).to(self.device)\n",
        "      y = torch.Tensor(y).to(self.device)\n",
        "      return padded_words, padded_symbols, y"
      ],
      "metadata": {
        "id": "JpRaiUM5uls8"
      },
      "execution_count": null,
      "outputs": []
    },
    {
      "cell_type": "code",
      "source": [
        "train_dataset = WordSymbDataset(train_df, word2id, symbol2id, DEVICE)\n",
        "train_sampler = RandomSampler(train_dataset)\n",
        "train_iterator = DataLoader(\n",
        "    train_dataset, collate_fn=train_dataset.collate_fn, sampler=train_sampler,\n",
        "    batch_size=128\n",
        "    )\n",
        "\n",
        "val_dataset = WordSymbDataset(val_df, word2id, symbol2id, DEVICE)\n",
        "val_sampler = RandomSampler(val_dataset)\n",
        "val_iterator = DataLoader(\n",
        "    val_dataset, collate_fn=val_dataset.collate_fn, sampler=val_sampler,\n",
        "    batch_size=128\n",
        "    )"
      ],
      "metadata": {
        "id": "xT6aH5KmfzJO"
      },
      "execution_count": null,
      "outputs": []
    },
    {
      "cell_type": "markdown",
      "source": [
        "#### **Архитектура модели**"
      ],
      "metadata": {
        "id": "LFKBd8XfxM7Y"
      }
    },
    {
      "cell_type": "code",
      "source": [
        "class SymbCNN(nn.Module):\n",
        "    def __init__(\n",
        "        self, word_vocab_size, word_embedding_size,\n",
        "        symb_vocab_size, symb_embedding_size\n",
        "        ):\n",
        "        super().__init__()\n",
        "        self.word_embedding = nn.Embedding(word_vocab_size, word_embedding_size)\n",
        "        self.word_embedding.from_pretrained(\n",
        "            torch.tensor(weights), freeze=True\n",
        "            )\n",
        "        self.word_hidden = nn.Linear(100, 100)\n",
        "        self.symb_embedding = nn.Embedding(symb_vocab_size, symb_embedding_size)\n",
        "        self.bigrams = nn.Conv1d(\n",
        "            in_channels=symb_embedding_size, out_channels=100,\n",
        "            kernel_size=2, padding=\"same\"\n",
        "            )\n",
        "        self.trigrams = nn.Conv1d(\n",
        "            in_channels=symb_embedding_size, out_channels=80,\n",
        "            kernel_size=3, padding=\"same\"\n",
        "            )\n",
        "        self.pooling = nn.MaxPool1d(kernel_size=3, stride=2)\n",
        "        self.symb_hidden = nn.Linear(in_features=180, out_features=100)\n",
        "        self.relu = nn.ReLU()\n",
        "        self.hidden = nn.Linear(in_features=200, out_features=1)\n",
        "        self.out = nn.Sigmoid()\n",
        "\n",
        "    def forward(self, words, symbols):\n",
        "        symb_embedded = self.symb_embedding(symbols)\n",
        "        symb_embedded = symb_embedded.transpose(1, 2)\n",
        "        feature_map_bigrams = self.pooling(\n",
        "            self.relu(self.bigrams(symb_embedded))\n",
        "            )\n",
        "        feature_map_trigrams = self.pooling(\n",
        "            self.relu(self.trigrams(symb_embedded))\n",
        "            )\n",
        "        pool1 = feature_map_bigrams.max(2)[0]\n",
        "        pool2 = feature_map_trigrams.max(2)[0]\n",
        "        concat = torch.cat((pool1, pool2), 1)\n",
        "        symb_vec = self.symb_hidden(concat)\n",
        "        words_embedded = torch.mean(self.word_embedding(words), dim=1)\n",
        "        words_vec = self.relu(self.word_hidden(words_embedded))\n",
        "        concat = torch.cat((symb_vec, words_vec), 1)\n",
        "        logits = self.out(self.hidden(concat))\n",
        "        return logits"
      ],
      "metadata": {
        "id": "wXKTEvuDxTQP"
      },
      "execution_count": null,
      "outputs": []
    },
    {
      "cell_type": "code",
      "source": [
        "model = SymbCNN(len(word2id), 100, len(symbol2id), 10)\n",
        "optimizer = optim.Adam(model.parameters(), lr=0.0005)\n",
        "criterion = nn.BCELoss()\n",
        "\n",
        "model = model.to(DEVICE)\n",
        "criterion = criterion.to(DEVICE)"
      ],
      "metadata": {
        "id": "G2Hkmy7XmhJq"
      },
      "execution_count": null,
      "outputs": []
    },
    {
      "cell_type": "markdown",
      "source": [
        "#### **Обучение и валидация**"
      ],
      "metadata": {
        "id": "FpHhH57-xT8L"
      }
    },
    {
      "cell_type": "code",
      "source": [
        "train_losses = []\n",
        "val_losses = []\n",
        "train_f1s = []\n",
        "val_f1s = []\n",
        "\n",
        "for i in range(1, 11):\n",
        "    print(f\"Starting Epoch {i}\")\n",
        "    print(\"Training...\")\n",
        "    epoch_loss = train_symb(model, train_iterator, optimizer, criterion)\n",
        "    train_losses.append(epoch_loss)\n",
        "    print(\"Evaluating on train...\")\n",
        "    f1_on_train,_ = evaluate_symb(model, train_iterator, criterion)\n",
        "    train_f1s.append(f1_on_train)\n",
        "    print(\"Evaluating on test...\")\n",
        "    f1_on_test, epoch_loss_on_test = evaluate_symb(\n",
        "        model, val_iterator, criterion\n",
        "        )\n",
        "    val_losses.append(epoch_loss_on_test)\n",
        "    val_f1s.append(f1_on_test)\n",
        "\n",
        "clear_output()"
      ],
      "metadata": {
        "id": "pAC43o4DxiEL"
      },
      "execution_count": null,
      "outputs": []
    },
    {
      "cell_type": "code",
      "source": [
        "print(f\"val loss: {val_losses[-1]}, val f1-score: {val_f1s[-1]}\")"
      ],
      "metadata": {
        "colab": {
          "base_uri": "https://localhost:8080/"
        },
        "id": "ix1atvGuzhVi",
        "outputId": "0f713349-275e-4532-9f0f-919716416ab1"
      },
      "execution_count": null,
      "outputs": [
        {
          "output_type": "stream",
          "name": "stdout",
          "text": [
            "val loss: 0.5227422088007384, val f1-score: 0.7565941214561462\n"
          ]
        }
      ]
    },
    {
      "cell_type": "markdown",
      "source": [
        "#### **Графики метрик**"
      ],
      "metadata": {
        "id": "12FymtVCxijv"
      }
    },
    {
      "cell_type": "code",
      "source": [
        "fig, (ax1, ax2) = plt.subplots(1, 2)\n",
        "\n",
        "ax1.plot(train_losses, label=\"train\")\n",
        "ax1.plot(val_losses, label=\"val\")\n",
        "ax1.set_title(\"BCE loss value\")\n",
        "ax1.set(xlabel=\"epoch\", ylabel=\"BCE loss\")\n",
        "ax1.legend(loc=\"upper right\")\n",
        "\n",
        "ax2.plot(train_f1s, label=\"train\")\n",
        "ax2.plot(val_f1s, label=\"val\")\n",
        "ax2.set_title(\"F1 score\")\n",
        "ax2.set(xlabel=\"epoch\", ylabel=\"F1 score\")\n",
        "ax2.legend(loc=\"upper right\")"
      ],
      "metadata": {
        "id": "yfKAmaEwxnTu",
        "colab": {
          "base_uri": "https://localhost:8080/",
          "height": 422
        },
        "outputId": "66bf2421-c10c-4192-f1b1-dfaa61bc8390"
      },
      "execution_count": null,
      "outputs": [
        {
          "output_type": "execute_result",
          "data": {
            "text/plain": [
              "<matplotlib.legend.Legend at 0x7f64c1aeeb90>"
            ]
          },
          "metadata": {},
          "execution_count": 48
        },
        {
          "output_type": "display_data",
          "data": {
            "text/plain": [
              "<Figure size 1296x432 with 2 Axes>"
            ],
            "image/png": "[encoded data removed]"
          },
          "metadata": {
            "needs_background": "light"
          }
        }
      ]
    },
    {
      "cell_type": "markdown",
      "source": [
        "#### **Улучшение архитектуры**\n",
        "Попробуем также добавить dropout, увеличить learning rate и добавить weight decay."
      ],
      "metadata": {
        "id": "ta9rQ3YRxntE"
      }
    },
    {
      "cell_type": "code",
      "source": [
        "class SymbCNNTweaked(nn.Module):\n",
        "    def __init__(\n",
        "        self, word_vocab_size, word_embedding_size,\n",
        "        symb_vocab_size, symb_embedding_size\n",
        "        ):\n",
        "        super().__init__()\n",
        "        self.word_embedding = nn.Embedding(word_vocab_size, word_embedding_size)\n",
        "        self.word_embedding.from_pretrained(\n",
        "            torch.tensor(weights), freeze=True\n",
        "            )\n",
        "        self.word_hidden = nn.Linear(100, 100)\n",
        "        self.symb_embedding = nn.Embedding(symb_vocab_size, symb_embedding_size)\n",
        "        self.bigrams = nn.Conv1d(\n",
        "            in_channels=symb_embedding_size, out_channels=100,\n",
        "            kernel_size=2, padding=\"same\"\n",
        "            )\n",
        "        self.trigrams = nn.Conv1d(\n",
        "            in_channels=symb_embedding_size, out_channels=80,\n",
        "            kernel_size=3, padding=\"same\"\n",
        "            )\n",
        "        self.pooling = nn.MaxPool1d(kernel_size=3, stride=2)\n",
        "        self.symb_hidden = nn.Linear(in_features=180, out_features=100)\n",
        "        self.relu = nn.ReLU()\n",
        "        self.hidden = nn.Linear(in_features=200, out_features=1)\n",
        "        self.dropout = nn.Dropout(p=0.5)\n",
        "        self.out = nn.Sigmoid()\n",
        "\n",
        "    def forward(self, words, symbols):\n",
        "        symb_embedded = self.symb_embedding(symbols)\n",
        "        symb_embedded = symb_embedded.transpose(1, 2)\n",
        "        feature_map_bigrams = self.pooling(\n",
        "            self.relu(self.bigrams(symb_embedded))\n",
        "            )\n",
        "        feature_map_trigrams = self.pooling(\n",
        "            self.relu(self.trigrams(symb_embedded))\n",
        "            )\n",
        "        pool1 = feature_map_bigrams.max(2)[0]\n",
        "        pool2 = feature_map_trigrams.max(2)[0]\n",
        "        concat = torch.cat((pool1, pool2), 1)\n",
        "        symb_vec = self.symb_hidden(concat)\n",
        "        words_embedded = torch.mean(self.word_embedding(words), dim=1)\n",
        "        words_vec = self.dropout(\n",
        "            self.relu(self.dropout(self.word_hidden(words_embedded)))\n",
        "            )\n",
        "        concat = torch.cat((symb_vec, words_vec), 1)\n",
        "        logits = self.out(self.hidden(concat))      \n",
        "        return logits"
      ],
      "metadata": {
        "id": "AfoBj94GxsA7"
      },
      "execution_count": null,
      "outputs": []
    },
    {
      "cell_type": "code",
      "source": [
        "model_new = SymbCNNTweaked(len(word2id), 100, len(symbol2id), 10)\n",
        "# изменим параметры оптимайзера — повысим learning rate и добавим weight decay\n",
        "optimizer = optim.Adam(model_new.parameters(), lr=0.001, weight_decay=1e-4)\n",
        "criterion = nn.BCELoss()\n",
        "\n",
        "model_new = model_new.to(DEVICE)\n",
        "criterion = criterion.to(DEVICE)"
      ],
      "metadata": {
        "id": "t9fA62mvYNK6"
      },
      "execution_count": 53,
      "outputs": []
    },
    {
      "cell_type": "code",
      "source": [
        "train_losses = []\n",
        "val_losses = []\n",
        "train_f1s = []\n",
        "val_f1s = []\n",
        "\n",
        "for i in range(1, 11):\n",
        "    print(f\"Starting Epoch {i}\")\n",
        "    print(\"Training...\")\n",
        "    epoch_loss = train_symb(model_new, train_iterator, optimizer, criterion)\n",
        "    train_losses.append(epoch_loss)\n",
        "    print(\"Evaluating on train...\")\n",
        "    f1_on_train,_ = evaluate_symb(model_new, train_iterator, criterion)\n",
        "    train_f1s.append(f1_on_train)\n",
        "    print(\"Evaluating on test...\")\n",
        "    f1_on_test, epoch_loss_on_test = evaluate_symb(\n",
        "        model, val_iterator, criterion\n",
        "        )\n",
        "    val_losses.append(epoch_loss_on_test)\n",
        "    val_f1s.append(f1_on_test)\n",
        "\n",
        "clear_output()"
      ],
      "metadata": {
        "id": "68Hn-_baZIxL"
      },
      "execution_count": 54,
      "outputs": []
    },
    {
      "cell_type": "code",
      "source": [
        "print(f\"val loss: {val_losses[-1]}, val f1-score: {val_f1s[-1]}\")"
      ],
      "metadata": {
        "id": "GY8tL4apZOkZ",
        "colab": {
          "base_uri": "https://localhost:8080/"
        },
        "outputId": "947c38ec-da21-448e-8d35-a8b2124b3561"
      },
      "execution_count": 55,
      "outputs": [
        {
          "output_type": "stream",
          "name": "stdout",
          "text": [
            "val loss: 0.5169867443133004, val f1-score: 0.7624869346618652\n"
          ]
        }
      ]
    },
    {
      "cell_type": "markdown",
      "source": [
        "Стало немного лучше."
      ],
      "metadata": {
        "id": "0dIS6JaVhvPO"
      }
    },
    {
      "cell_type": "markdown",
      "source": [
        "  # **Анализ ошибок**"
      ],
      "metadata": {
        "id": "Ojzy06p0uxgV"
      }
    },
    {
      "cell_type": "code",
      "source": [
        ""
      ],
      "metadata": {
        "id": "6P4hjQURvGF_"
      },
      "execution_count": null,
      "outputs": []
    }
  ]
}